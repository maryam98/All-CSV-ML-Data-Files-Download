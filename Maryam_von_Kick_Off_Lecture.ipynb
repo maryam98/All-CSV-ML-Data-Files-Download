{
  "nbformat": 4,
  "nbformat_minor": 0,
  "metadata": {
    "colab": {
      "name": "Maryam_von Kick-Off Lecture.ipynb",
      "provenance": [],
      "collapsed_sections": [],
      "include_colab_link": true
    },
    "kernelspec": {
      "name": "python3",
      "display_name": "Python 3"
    }
  },
  "cells": [
    {
      "cell_type": "markdown",
      "metadata": {
        "id": "view-in-github",
        "colab_type": "text"
      },
      "source": [
        "<a href=\"https://colab.research.google.com/github/maryam98/All-CSV-ML-Data-Files-Download/blob/master/Maryam_von_Kick_Off_Lecture.ipynb\" target=\"_parent\"><img src=\"https://colab.research.google.com/assets/colab-badge.svg\" alt=\"Open In Colab\"/></a>"
      ]
    },
    {
      "cell_type": "markdown",
      "metadata": {
        "id": "1-vAOcKer2v1"
      },
      "source": [
        "![Checkars](https://raw.githubusercontent.com/juliandnl/redi_ss20/master/checkars/grafik.png)"
      ]
    },
    {
      "cell_type": "code",
      "metadata": {
        "id": "dapAaqR5UUui"
      },
      "source": [
        "# Imports\n",
        "import pandas as pd"
      ],
      "execution_count": 4,
      "outputs": []
    },
    {
      "cell_type": "code",
      "metadata": {
        "id": "pWmymo6_Hl-s"
      },
      "source": [
        "import numpy as np"
      ],
      "execution_count": 5,
      "outputs": []
    },
    {
      "cell_type": "code",
      "metadata": {
        "id": "liRb9nHpJIO0"
      },
      "source": [
        "import matplotlib.pyplot as plt\n"
      ],
      "execution_count": 6,
      "outputs": []
    },
    {
      "cell_type": "code",
      "metadata": {
        "id": "0NXmNVB37rkT"
      },
      "source": [
        "# read in the data\n",
        "cars = pd.read_csv(\"https://raw.githubusercontent.com/juliandnl/redi_ss20/master/cars.csv\")\n"
      ],
      "execution_count": 11,
      "outputs": []
    },
    {
      "cell_type": "code",
      "source": [
        "cars"
      ],
      "metadata": {
        "colab": {
          "base_uri": "https://localhost:8080/",
          "height": 424
        },
        "id": "iWeeYugMRCHh",
        "outputId": "3b6cda77-1b21-4edd-df57-055e2b820010"
      },
      "execution_count": 12,
      "outputs": [
        {
          "output_type": "execute_result",
          "data": {
            "text/plain": [
              "            Make                  Model  Year  \\\n",
              "0     Volkswagen                  Vento  2012   \n",
              "1           Ford                 Ranger  2012   \n",
              "2     Volkswagen                    Fox  2011   \n",
              "3           Ford                 Ranger  2017   \n",
              "4     Volkswagen                    Gol  2013   \n",
              "...          ...                    ...   ...   \n",
              "9995        Ford              Focus III  2016   \n",
              "9996  Volkswagen                   Bora  2012   \n",
              "9997        Ford  Fiesta Kinetic Design  2012   \n",
              "9998        Ford  Fiesta Kinetic Design  2013   \n",
              "9999        Ford              Focus III  2014   \n",
              "\n",
              "                               Variant     Kms   Price  Doors       Kind  \\\n",
              "0                     2.5 Luxury 170cv   99950  360000    4.0      Sedán   \n",
              "1                   2.3 Cd Xl Plus 4x2  140000  320000    2.0    Pick-Up   \n",
              "2                        1.6 Trendline  132000  209980    5.0  Hatchback   \n",
              "3     3.2 Cd Xls Tdci 200cv Automática   13000  798000    4.0    Pick-Up   \n",
              "4                   1.4 Power 83cv 3 p  107000  146000    3.0  Hatchback   \n",
              "...                                ...     ...     ...    ...        ...   \n",
              "9995                            2.0 Se   67000  399000    5.0  Hatchback   \n",
              "9996             1.9 Trendline I 100cv  120000  240000    4.0      Sedán   \n",
              "9997         1.6 Design 120cv Titanium   89000  250000    5.0  Hatchback   \n",
              "9998         1.6 Design 120cv Titanium   76000  295000    5.0  Hatchback   \n",
              "9999                  2.0 Titanium At6   32000  380000    5.0  Hatchback   \n",
              "\n",
              "                   Location  \n",
              "0                   Córdoba  \n",
              "1                Entre Ríos  \n",
              "2         Bs.as. G.b.a. Sur  \n",
              "3                   Neuquén  \n",
              "4                   Córdoba  \n",
              "...                     ...  \n",
              "9995    Bs.as. G.b.a. Oeste  \n",
              "9996  Buenos Aires Interior  \n",
              "9997                Tucumán  \n",
              "9998  Buenos Aires Interior  \n",
              "9999      Bs.as. G.b.a. Sur  \n",
              "\n",
              "[10000 rows x 9 columns]"
            ],
            "text/html": [
              "\n",
              "  <div id=\"df-8a6b9eb4-af62-4839-87f1-86cbf16200f7\">\n",
              "    <div class=\"colab-df-container\">\n",
              "      <div>\n",
              "<style scoped>\n",
              "    .dataframe tbody tr th:only-of-type {\n",
              "        vertical-align: middle;\n",
              "    }\n",
              "\n",
              "    .dataframe tbody tr th {\n",
              "        vertical-align: top;\n",
              "    }\n",
              "\n",
              "    .dataframe thead th {\n",
              "        text-align: right;\n",
              "    }\n",
              "</style>\n",
              "<table border=\"1\" class=\"dataframe\">\n",
              "  <thead>\n",
              "    <tr style=\"text-align: right;\">\n",
              "      <th></th>\n",
              "      <th>Make</th>\n",
              "      <th>Model</th>\n",
              "      <th>Year</th>\n",
              "      <th>Variant</th>\n",
              "      <th>Kms</th>\n",
              "      <th>Price</th>\n",
              "      <th>Doors</th>\n",
              "      <th>Kind</th>\n",
              "      <th>Location</th>\n",
              "    </tr>\n",
              "  </thead>\n",
              "  <tbody>\n",
              "    <tr>\n",
              "      <th>0</th>\n",
              "      <td>Volkswagen</td>\n",
              "      <td>Vento</td>\n",
              "      <td>2012</td>\n",
              "      <td>2.5 Luxury 170cv</td>\n",
              "      <td>99950</td>\n",
              "      <td>360000</td>\n",
              "      <td>4.0</td>\n",
              "      <td>Sedán</td>\n",
              "      <td>Córdoba</td>\n",
              "    </tr>\n",
              "    <tr>\n",
              "      <th>1</th>\n",
              "      <td>Ford</td>\n",
              "      <td>Ranger</td>\n",
              "      <td>2012</td>\n",
              "      <td>2.3 Cd Xl Plus 4x2</td>\n",
              "      <td>140000</td>\n",
              "      <td>320000</td>\n",
              "      <td>2.0</td>\n",
              "      <td>Pick-Up</td>\n",
              "      <td>Entre Ríos</td>\n",
              "    </tr>\n",
              "    <tr>\n",
              "      <th>2</th>\n",
              "      <td>Volkswagen</td>\n",
              "      <td>Fox</td>\n",
              "      <td>2011</td>\n",
              "      <td>1.6 Trendline</td>\n",
              "      <td>132000</td>\n",
              "      <td>209980</td>\n",
              "      <td>5.0</td>\n",
              "      <td>Hatchback</td>\n",
              "      <td>Bs.as. G.b.a. Sur</td>\n",
              "    </tr>\n",
              "    <tr>\n",
              "      <th>3</th>\n",
              "      <td>Ford</td>\n",
              "      <td>Ranger</td>\n",
              "      <td>2017</td>\n",
              "      <td>3.2 Cd Xls Tdci 200cv Automática</td>\n",
              "      <td>13000</td>\n",
              "      <td>798000</td>\n",
              "      <td>4.0</td>\n",
              "      <td>Pick-Up</td>\n",
              "      <td>Neuquén</td>\n",
              "    </tr>\n",
              "    <tr>\n",
              "      <th>4</th>\n",
              "      <td>Volkswagen</td>\n",
              "      <td>Gol</td>\n",
              "      <td>2013</td>\n",
              "      <td>1.4 Power 83cv 3 p</td>\n",
              "      <td>107000</td>\n",
              "      <td>146000</td>\n",
              "      <td>3.0</td>\n",
              "      <td>Hatchback</td>\n",
              "      <td>Córdoba</td>\n",
              "    </tr>\n",
              "    <tr>\n",
              "      <th>...</th>\n",
              "      <td>...</td>\n",
              "      <td>...</td>\n",
              "      <td>...</td>\n",
              "      <td>...</td>\n",
              "      <td>...</td>\n",
              "      <td>...</td>\n",
              "      <td>...</td>\n",
              "      <td>...</td>\n",
              "      <td>...</td>\n",
              "    </tr>\n",
              "    <tr>\n",
              "      <th>9995</th>\n",
              "      <td>Ford</td>\n",
              "      <td>Focus III</td>\n",
              "      <td>2016</td>\n",
              "      <td>2.0 Se</td>\n",
              "      <td>67000</td>\n",
              "      <td>399000</td>\n",
              "      <td>5.0</td>\n",
              "      <td>Hatchback</td>\n",
              "      <td>Bs.as. G.b.a. Oeste</td>\n",
              "    </tr>\n",
              "    <tr>\n",
              "      <th>9996</th>\n",
              "      <td>Volkswagen</td>\n",
              "      <td>Bora</td>\n",
              "      <td>2012</td>\n",
              "      <td>1.9 Trendline I 100cv</td>\n",
              "      <td>120000</td>\n",
              "      <td>240000</td>\n",
              "      <td>4.0</td>\n",
              "      <td>Sedán</td>\n",
              "      <td>Buenos Aires Interior</td>\n",
              "    </tr>\n",
              "    <tr>\n",
              "      <th>9997</th>\n",
              "      <td>Ford</td>\n",
              "      <td>Fiesta Kinetic Design</td>\n",
              "      <td>2012</td>\n",
              "      <td>1.6 Design 120cv Titanium</td>\n",
              "      <td>89000</td>\n",
              "      <td>250000</td>\n",
              "      <td>5.0</td>\n",
              "      <td>Hatchback</td>\n",
              "      <td>Tucumán</td>\n",
              "    </tr>\n",
              "    <tr>\n",
              "      <th>9998</th>\n",
              "      <td>Ford</td>\n",
              "      <td>Fiesta Kinetic Design</td>\n",
              "      <td>2013</td>\n",
              "      <td>1.6 Design 120cv Titanium</td>\n",
              "      <td>76000</td>\n",
              "      <td>295000</td>\n",
              "      <td>5.0</td>\n",
              "      <td>Hatchback</td>\n",
              "      <td>Buenos Aires Interior</td>\n",
              "    </tr>\n",
              "    <tr>\n",
              "      <th>9999</th>\n",
              "      <td>Ford</td>\n",
              "      <td>Focus III</td>\n",
              "      <td>2014</td>\n",
              "      <td>2.0 Titanium At6</td>\n",
              "      <td>32000</td>\n",
              "      <td>380000</td>\n",
              "      <td>5.0</td>\n",
              "      <td>Hatchback</td>\n",
              "      <td>Bs.as. G.b.a. Sur</td>\n",
              "    </tr>\n",
              "  </tbody>\n",
              "</table>\n",
              "<p>10000 rows × 9 columns</p>\n",
              "</div>\n",
              "      <button class=\"colab-df-convert\" onclick=\"convertToInteractive('df-8a6b9eb4-af62-4839-87f1-86cbf16200f7')\"\n",
              "              title=\"Convert this dataframe to an interactive table.\"\n",
              "              style=\"display:none;\">\n",
              "        \n",
              "  <svg xmlns=\"http://www.w3.org/2000/svg\" height=\"24px\"viewBox=\"0 0 24 24\"\n",
              "       width=\"24px\">\n",
              "    <path d=\"M0 0h24v24H0V0z\" fill=\"none\"/>\n",
              "    <path d=\"M18.56 5.44l.94 2.06.94-2.06 2.06-.94-2.06-.94-.94-2.06-.94 2.06-2.06.94zm-11 1L8.5 8.5l.94-2.06 2.06-.94-2.06-.94L8.5 2.5l-.94 2.06-2.06.94zm10 10l.94 2.06.94-2.06 2.06-.94-2.06-.94-.94-2.06-.94 2.06-2.06.94z\"/><path d=\"M17.41 7.96l-1.37-1.37c-.4-.4-.92-.59-1.43-.59-.52 0-1.04.2-1.43.59L10.3 9.45l-7.72 7.72c-.78.78-.78 2.05 0 2.83L4 21.41c.39.39.9.59 1.41.59.51 0 1.02-.2 1.41-.59l7.78-7.78 2.81-2.81c.8-.78.8-2.07 0-2.86zM5.41 20L4 18.59l7.72-7.72 1.47 1.35L5.41 20z\"/>\n",
              "  </svg>\n",
              "      </button>\n",
              "      \n",
              "  <style>\n",
              "    .colab-df-container {\n",
              "      display:flex;\n",
              "      flex-wrap:wrap;\n",
              "      gap: 12px;\n",
              "    }\n",
              "\n",
              "    .colab-df-convert {\n",
              "      background-color: #E8F0FE;\n",
              "      border: none;\n",
              "      border-radius: 50%;\n",
              "      cursor: pointer;\n",
              "      display: none;\n",
              "      fill: #1967D2;\n",
              "      height: 32px;\n",
              "      padding: 0 0 0 0;\n",
              "      width: 32px;\n",
              "    }\n",
              "\n",
              "    .colab-df-convert:hover {\n",
              "      background-color: #E2EBFA;\n",
              "      box-shadow: 0px 1px 2px rgba(60, 64, 67, 0.3), 0px 1px 3px 1px rgba(60, 64, 67, 0.15);\n",
              "      fill: #174EA6;\n",
              "    }\n",
              "\n",
              "    [theme=dark] .colab-df-convert {\n",
              "      background-color: #3B4455;\n",
              "      fill: #D2E3FC;\n",
              "    }\n",
              "\n",
              "    [theme=dark] .colab-df-convert:hover {\n",
              "      background-color: #434B5C;\n",
              "      box-shadow: 0px 1px 3px 1px rgba(0, 0, 0, 0.15);\n",
              "      filter: drop-shadow(0px 1px 2px rgba(0, 0, 0, 0.3));\n",
              "      fill: #FFFFFF;\n",
              "    }\n",
              "  </style>\n",
              "\n",
              "      <script>\n",
              "        const buttonEl =\n",
              "          document.querySelector('#df-8a6b9eb4-af62-4839-87f1-86cbf16200f7 button.colab-df-convert');\n",
              "        buttonEl.style.display =\n",
              "          google.colab.kernel.accessAllowed ? 'block' : 'none';\n",
              "\n",
              "        async function convertToInteractive(key) {\n",
              "          const element = document.querySelector('#df-8a6b9eb4-af62-4839-87f1-86cbf16200f7');\n",
              "          const dataTable =\n",
              "            await google.colab.kernel.invokeFunction('convertToInteractive',\n",
              "                                                     [key], {});\n",
              "          if (!dataTable) return;\n",
              "\n",
              "          const docLinkHtml = 'Like what you see? Visit the ' +\n",
              "            '<a target=\"_blank\" href=https://colab.research.google.com/notebooks/data_table.ipynb>data table notebook</a>'\n",
              "            + ' to learn more about interactive tables.';\n",
              "          element.innerHTML = '';\n",
              "          dataTable['output_type'] = 'display_data';\n",
              "          await google.colab.output.renderOutput(dataTable, element);\n",
              "          const docLink = document.createElement('div');\n",
              "          docLink.innerHTML = docLinkHtml;\n",
              "          element.appendChild(docLink);\n",
              "        }\n",
              "      </script>\n",
              "    </div>\n",
              "  </div>\n",
              "  "
            ]
          },
          "metadata": {},
          "execution_count": 12
        }
      ]
    },
    {
      "cell_type": "code",
      "metadata": {
        "id": "kkbsawjqJlD_",
        "outputId": "99fbcf00-347a-4c6e-ba1f-1bd28039ca81",
        "colab": {
          "base_uri": "https://localhost:8080/"
        }
      },
      "source": [
        "# what type of object is car?\n",
        "type(cars)"
      ],
      "execution_count": 13,
      "outputs": [
        {
          "output_type": "execute_result",
          "data": {
            "text/plain": [
              "pandas.core.frame.DataFrame"
            ]
          },
          "metadata": {},
          "execution_count": 13
        }
      ]
    },
    {
      "cell_type": "code",
      "source": [
        "cars.dtypes"
      ],
      "metadata": {
        "colab": {
          "base_uri": "https://localhost:8080/"
        },
        "id": "weA4RE4jcMIB",
        "outputId": "4c234844-dba3-44ab-e8d8-e06d5a04ea08"
      },
      "execution_count": 24,
      "outputs": [
        {
          "output_type": "execute_result",
          "data": {
            "text/plain": [
              "Make         object\n",
              "Model        object\n",
              "Year          int64\n",
              "Variant      object\n",
              "Kms           int64\n",
              "Price         int64\n",
              "Doors       float64\n",
              "Kind         object\n",
              "Location     object\n",
              "dtype: object"
            ]
          },
          "metadata": {},
          "execution_count": 24
        }
      ]
    },
    {
      "cell_type": "markdown",
      "metadata": {
        "id": "BeECOGFfCRFB"
      },
      "source": [
        "## 1. What kind of information do we have?\n",
        "\n",
        "We can split this question up into some sub questions:\n",
        "- how many cars are in the dataset?\n",
        "- what information do we have per car?\n",
        "- how do the information look like? (numbers, words?)\n"
      ]
    },
    {
      "cell_type": "code",
      "metadata": {
        "id": "0R-YyDkHCxuI",
        "colab": {
          "base_uri": "https://localhost:8080/"
        },
        "outputId": "88db44d2-595f-42fb-9da9-fd02bf4c0700"
      },
      "source": [
        "# rows and columns. What is the shape?\n",
        "cars.shape"
      ],
      "execution_count": 14,
      "outputs": [
        {
          "output_type": "execute_result",
          "data": {
            "text/plain": [
              "(10000, 9)"
            ]
          },
          "metadata": {},
          "execution_count": 14
        }
      ]
    },
    {
      "cell_type": "code",
      "metadata": {
        "id": "YGKS9U8xE6WQ",
        "colab": {
          "base_uri": "https://localhost:8080/"
        },
        "outputId": "b7fca1c8-5476-46fc-c531-5c129ced0c9c"
      },
      "source": [
        "# Overview of the dataset. Information about the dataset.\n",
        "cars.info()"
      ],
      "execution_count": 15,
      "outputs": [
        {
          "output_type": "stream",
          "name": "stdout",
          "text": [
            "<class 'pandas.core.frame.DataFrame'>\n",
            "RangeIndex: 10000 entries, 0 to 9999\n",
            "Data columns (total 9 columns):\n",
            " #   Column    Non-Null Count  Dtype  \n",
            "---  ------    --------------  -----  \n",
            " 0   Make      10000 non-null  object \n",
            " 1   Model     10000 non-null  object \n",
            " 2   Year      10000 non-null  int64  \n",
            " 3   Variant   10000 non-null  object \n",
            " 4   Kms       10000 non-null  int64  \n",
            " 5   Price     10000 non-null  int64  \n",
            " 6   Doors     10000 non-null  float64\n",
            " 7   Kind      10000 non-null  object \n",
            " 8   Location  10000 non-null  object \n",
            "dtypes: float64(1), int64(3), object(5)\n",
            "memory usage: 703.2+ KB\n"
          ]
        }
      ]
    },
    {
      "cell_type": "markdown",
      "source": [
        ""
      ],
      "metadata": {
        "id": "DRdv2X3lUi_N"
      }
    },
    {
      "cell_type": "code",
      "metadata": {
        "id": "jwfYTSl38HfC",
        "colab": {
          "base_uri": "https://localhost:8080/",
          "height": 363
        },
        "outputId": "fdfec232-654b-4f47-9b89-5eb99a7d194d"
      },
      "source": [
        "# First rows. Get the first 10 rows.\n",
        "cars.head(10)"
      ],
      "execution_count": 18,
      "outputs": [
        {
          "output_type": "execute_result",
          "data": {
            "text/plain": [
              "         Make                  Model  Year  \\\n",
              "0  Volkswagen                  Vento  2012   \n",
              "1        Ford                 Ranger  2012   \n",
              "2  Volkswagen                    Fox  2011   \n",
              "3        Ford                 Ranger  2017   \n",
              "4  Volkswagen                    Gol  2013   \n",
              "5  Volkswagen                 Amarok  2014   \n",
              "6        Ford                     Ka  2012   \n",
              "7        Ford                     Ka  2012   \n",
              "8        Ford              Focus III  2017   \n",
              "9        Ford  Fiesta Kinetic Design  2014   \n",
              "\n",
              "                               Variant     Kms   Price  Doors       Kind  \\\n",
              "0                     2.5 Luxury 170cv   99950  360000    4.0      Sedán   \n",
              "1                   2.3 Cd Xl Plus 4x2  140000  320000    2.0    Pick-Up   \n",
              "2                        1.6 Trendline  132000  209980    5.0  Hatchback   \n",
              "3     3.2 Cd Xls Tdci 200cv Automática   13000  798000    4.0    Pick-Up   \n",
              "4                   1.4 Power 83cv 3 p  107000  146000    3.0  Hatchback   \n",
              "5    2.0 Cd Tdi 180cv 4x4 Highline C34  115000  790000    4.0    Pick-Up   \n",
              "6                   1.0 Fly Viral 63cv   95243  142000    3.0  Hatchback   \n",
              "7                   1.6 Fly Viral 95cv  110000  148000    3.0  Hatchback   \n",
              "8                                1.6 S   17500  367000    5.0  Hatchback   \n",
              "9  1.6 Sedan Titanium Powershift 120cv   43000  287000    4.0      Sedán   \n",
              "\n",
              "                Location  \n",
              "0                Córdoba  \n",
              "1             Entre Ríos  \n",
              "2      Bs.as. G.b.a. Sur  \n",
              "3                Neuquén  \n",
              "4                Córdoba  \n",
              "5  Buenos Aires Interior  \n",
              "6      Bs.as. G.b.a. Sur  \n",
              "7  Buenos Aires Interior  \n",
              "8  Buenos Aires Interior  \n",
              "9    Bs.as. G.b.a. Norte  "
            ],
            "text/html": [
              "\n",
              "  <div id=\"df-89275a6e-98fd-4e97-8e2b-cc9efda47b44\">\n",
              "    <div class=\"colab-df-container\">\n",
              "      <div>\n",
              "<style scoped>\n",
              "    .dataframe tbody tr th:only-of-type {\n",
              "        vertical-align: middle;\n",
              "    }\n",
              "\n",
              "    .dataframe tbody tr th {\n",
              "        vertical-align: top;\n",
              "    }\n",
              "\n",
              "    .dataframe thead th {\n",
              "        text-align: right;\n",
              "    }\n",
              "</style>\n",
              "<table border=\"1\" class=\"dataframe\">\n",
              "  <thead>\n",
              "    <tr style=\"text-align: right;\">\n",
              "      <th></th>\n",
              "      <th>Make</th>\n",
              "      <th>Model</th>\n",
              "      <th>Year</th>\n",
              "      <th>Variant</th>\n",
              "      <th>Kms</th>\n",
              "      <th>Price</th>\n",
              "      <th>Doors</th>\n",
              "      <th>Kind</th>\n",
              "      <th>Location</th>\n",
              "    </tr>\n",
              "  </thead>\n",
              "  <tbody>\n",
              "    <tr>\n",
              "      <th>0</th>\n",
              "      <td>Volkswagen</td>\n",
              "      <td>Vento</td>\n",
              "      <td>2012</td>\n",
              "      <td>2.5 Luxury 170cv</td>\n",
              "      <td>99950</td>\n",
              "      <td>360000</td>\n",
              "      <td>4.0</td>\n",
              "      <td>Sedán</td>\n",
              "      <td>Córdoba</td>\n",
              "    </tr>\n",
              "    <tr>\n",
              "      <th>1</th>\n",
              "      <td>Ford</td>\n",
              "      <td>Ranger</td>\n",
              "      <td>2012</td>\n",
              "      <td>2.3 Cd Xl Plus 4x2</td>\n",
              "      <td>140000</td>\n",
              "      <td>320000</td>\n",
              "      <td>2.0</td>\n",
              "      <td>Pick-Up</td>\n",
              "      <td>Entre Ríos</td>\n",
              "    </tr>\n",
              "    <tr>\n",
              "      <th>2</th>\n",
              "      <td>Volkswagen</td>\n",
              "      <td>Fox</td>\n",
              "      <td>2011</td>\n",
              "      <td>1.6 Trendline</td>\n",
              "      <td>132000</td>\n",
              "      <td>209980</td>\n",
              "      <td>5.0</td>\n",
              "      <td>Hatchback</td>\n",
              "      <td>Bs.as. G.b.a. Sur</td>\n",
              "    </tr>\n",
              "    <tr>\n",
              "      <th>3</th>\n",
              "      <td>Ford</td>\n",
              "      <td>Ranger</td>\n",
              "      <td>2017</td>\n",
              "      <td>3.2 Cd Xls Tdci 200cv Automática</td>\n",
              "      <td>13000</td>\n",
              "      <td>798000</td>\n",
              "      <td>4.0</td>\n",
              "      <td>Pick-Up</td>\n",
              "      <td>Neuquén</td>\n",
              "    </tr>\n",
              "    <tr>\n",
              "      <th>4</th>\n",
              "      <td>Volkswagen</td>\n",
              "      <td>Gol</td>\n",
              "      <td>2013</td>\n",
              "      <td>1.4 Power 83cv 3 p</td>\n",
              "      <td>107000</td>\n",
              "      <td>146000</td>\n",
              "      <td>3.0</td>\n",
              "      <td>Hatchback</td>\n",
              "      <td>Córdoba</td>\n",
              "    </tr>\n",
              "    <tr>\n",
              "      <th>5</th>\n",
              "      <td>Volkswagen</td>\n",
              "      <td>Amarok</td>\n",
              "      <td>2014</td>\n",
              "      <td>2.0 Cd Tdi 180cv 4x4 Highline C34</td>\n",
              "      <td>115000</td>\n",
              "      <td>790000</td>\n",
              "      <td>4.0</td>\n",
              "      <td>Pick-Up</td>\n",
              "      <td>Buenos Aires Interior</td>\n",
              "    </tr>\n",
              "    <tr>\n",
              "      <th>6</th>\n",
              "      <td>Ford</td>\n",
              "      <td>Ka</td>\n",
              "      <td>2012</td>\n",
              "      <td>1.0 Fly Viral 63cv</td>\n",
              "      <td>95243</td>\n",
              "      <td>142000</td>\n",
              "      <td>3.0</td>\n",
              "      <td>Hatchback</td>\n",
              "      <td>Bs.as. G.b.a. Sur</td>\n",
              "    </tr>\n",
              "    <tr>\n",
              "      <th>7</th>\n",
              "      <td>Ford</td>\n",
              "      <td>Ka</td>\n",
              "      <td>2012</td>\n",
              "      <td>1.6 Fly Viral 95cv</td>\n",
              "      <td>110000</td>\n",
              "      <td>148000</td>\n",
              "      <td>3.0</td>\n",
              "      <td>Hatchback</td>\n",
              "      <td>Buenos Aires Interior</td>\n",
              "    </tr>\n",
              "    <tr>\n",
              "      <th>8</th>\n",
              "      <td>Ford</td>\n",
              "      <td>Focus III</td>\n",
              "      <td>2017</td>\n",
              "      <td>1.6 S</td>\n",
              "      <td>17500</td>\n",
              "      <td>367000</td>\n",
              "      <td>5.0</td>\n",
              "      <td>Hatchback</td>\n",
              "      <td>Buenos Aires Interior</td>\n",
              "    </tr>\n",
              "    <tr>\n",
              "      <th>9</th>\n",
              "      <td>Ford</td>\n",
              "      <td>Fiesta Kinetic Design</td>\n",
              "      <td>2014</td>\n",
              "      <td>1.6 Sedan Titanium Powershift 120cv</td>\n",
              "      <td>43000</td>\n",
              "      <td>287000</td>\n",
              "      <td>4.0</td>\n",
              "      <td>Sedán</td>\n",
              "      <td>Bs.as. G.b.a. Norte</td>\n",
              "    </tr>\n",
              "  </tbody>\n",
              "</table>\n",
              "</div>\n",
              "      <button class=\"colab-df-convert\" onclick=\"convertToInteractive('df-89275a6e-98fd-4e97-8e2b-cc9efda47b44')\"\n",
              "              title=\"Convert this dataframe to an interactive table.\"\n",
              "              style=\"display:none;\">\n",
              "        \n",
              "  <svg xmlns=\"http://www.w3.org/2000/svg\" height=\"24px\"viewBox=\"0 0 24 24\"\n",
              "       width=\"24px\">\n",
              "    <path d=\"M0 0h24v24H0V0z\" fill=\"none\"/>\n",
              "    <path d=\"M18.56 5.44l.94 2.06.94-2.06 2.06-.94-2.06-.94-.94-2.06-.94 2.06-2.06.94zm-11 1L8.5 8.5l.94-2.06 2.06-.94-2.06-.94L8.5 2.5l-.94 2.06-2.06.94zm10 10l.94 2.06.94-2.06 2.06-.94-2.06-.94-.94-2.06-.94 2.06-2.06.94z\"/><path d=\"M17.41 7.96l-1.37-1.37c-.4-.4-.92-.59-1.43-.59-.52 0-1.04.2-1.43.59L10.3 9.45l-7.72 7.72c-.78.78-.78 2.05 0 2.83L4 21.41c.39.39.9.59 1.41.59.51 0 1.02-.2 1.41-.59l7.78-7.78 2.81-2.81c.8-.78.8-2.07 0-2.86zM5.41 20L4 18.59l7.72-7.72 1.47 1.35L5.41 20z\"/>\n",
              "  </svg>\n",
              "      </button>\n",
              "      \n",
              "  <style>\n",
              "    .colab-df-container {\n",
              "      display:flex;\n",
              "      flex-wrap:wrap;\n",
              "      gap: 12px;\n",
              "    }\n",
              "\n",
              "    .colab-df-convert {\n",
              "      background-color: #E8F0FE;\n",
              "      border: none;\n",
              "      border-radius: 50%;\n",
              "      cursor: pointer;\n",
              "      display: none;\n",
              "      fill: #1967D2;\n",
              "      height: 32px;\n",
              "      padding: 0 0 0 0;\n",
              "      width: 32px;\n",
              "    }\n",
              "\n",
              "    .colab-df-convert:hover {\n",
              "      background-color: #E2EBFA;\n",
              "      box-shadow: 0px 1px 2px rgba(60, 64, 67, 0.3), 0px 1px 3px 1px rgba(60, 64, 67, 0.15);\n",
              "      fill: #174EA6;\n",
              "    }\n",
              "\n",
              "    [theme=dark] .colab-df-convert {\n",
              "      background-color: #3B4455;\n",
              "      fill: #D2E3FC;\n",
              "    }\n",
              "\n",
              "    [theme=dark] .colab-df-convert:hover {\n",
              "      background-color: #434B5C;\n",
              "      box-shadow: 0px 1px 3px 1px rgba(0, 0, 0, 0.15);\n",
              "      filter: drop-shadow(0px 1px 2px rgba(0, 0, 0, 0.3));\n",
              "      fill: #FFFFFF;\n",
              "    }\n",
              "  </style>\n",
              "\n",
              "      <script>\n",
              "        const buttonEl =\n",
              "          document.querySelector('#df-89275a6e-98fd-4e97-8e2b-cc9efda47b44 button.colab-df-convert');\n",
              "        buttonEl.style.display =\n",
              "          google.colab.kernel.accessAllowed ? 'block' : 'none';\n",
              "\n",
              "        async function convertToInteractive(key) {\n",
              "          const element = document.querySelector('#df-89275a6e-98fd-4e97-8e2b-cc9efda47b44');\n",
              "          const dataTable =\n",
              "            await google.colab.kernel.invokeFunction('convertToInteractive',\n",
              "                                                     [key], {});\n",
              "          if (!dataTable) return;\n",
              "\n",
              "          const docLinkHtml = 'Like what you see? Visit the ' +\n",
              "            '<a target=\"_blank\" href=https://colab.research.google.com/notebooks/data_table.ipynb>data table notebook</a>'\n",
              "            + ' to learn more about interactive tables.';\n",
              "          element.innerHTML = '';\n",
              "          dataTable['output_type'] = 'display_data';\n",
              "          await google.colab.output.renderOutput(dataTable, element);\n",
              "          const docLink = document.createElement('div');\n",
              "          docLink.innerHTML = docLinkHtml;\n",
              "          element.appendChild(docLink);\n",
              "        }\n",
              "      </script>\n",
              "    </div>\n",
              "  </div>\n",
              "  "
            ]
          },
          "metadata": {},
          "execution_count": 18
        }
      ]
    },
    {
      "cell_type": "code",
      "metadata": {
        "id": "kL1j4ij-LQAg",
        "colab": {
          "base_uri": "https://localhost:8080/"
        },
        "outputId": "4dc12610-575c-4d1b-afc9-8a9ecf74c856"
      },
      "source": [
        "# method 1: access row 4\n",
        "cars.iloc[4]"
      ],
      "execution_count": 26,
      "outputs": [
        {
          "output_type": "execute_result",
          "data": {
            "text/plain": [
              "Make                Volkswagen\n",
              "Model                      Gol\n",
              "Year                      2013\n",
              "Variant     1.4 Power 83cv 3 p\n",
              "Kms                     107000\n",
              "Price                   146000\n",
              "Doors                      3.0\n",
              "Kind                 Hatchback\n",
              "Location               Córdoba\n",
              "Name: 4, dtype: object"
            ]
          },
          "metadata": {},
          "execution_count": 26
        }
      ]
    },
    {
      "cell_type": "code",
      "metadata": {
        "id": "LgljbxcMS2Qe",
        "colab": {
          "base_uri": "https://localhost:8080/",
          "height": 206
        },
        "outputId": "d28c3509-f07e-48d3-b987-93f36ab83f23"
      },
      "source": [
        "# selecting continuous rows using integer location. accessing row 1 to 5.\n",
        "cars.iloc[1:6]"
      ],
      "execution_count": 28,
      "outputs": [
        {
          "output_type": "execute_result",
          "data": {
            "text/plain": [
              "         Make   Model  Year                            Variant     Kms  \\\n",
              "1        Ford  Ranger  2012                 2.3 Cd Xl Plus 4x2  140000   \n",
              "2  Volkswagen     Fox  2011                      1.6 Trendline  132000   \n",
              "3        Ford  Ranger  2017   3.2 Cd Xls Tdci 200cv Automática   13000   \n",
              "4  Volkswagen     Gol  2013                 1.4 Power 83cv 3 p  107000   \n",
              "5  Volkswagen  Amarok  2014  2.0 Cd Tdi 180cv 4x4 Highline C34  115000   \n",
              "\n",
              "    Price  Doors       Kind               Location  \n",
              "1  320000    2.0    Pick-Up             Entre Ríos  \n",
              "2  209980    5.0  Hatchback      Bs.as. G.b.a. Sur  \n",
              "3  798000    4.0    Pick-Up                Neuquén  \n",
              "4  146000    3.0  Hatchback                Córdoba  \n",
              "5  790000    4.0    Pick-Up  Buenos Aires Interior  "
            ],
            "text/html": [
              "\n",
              "  <div id=\"df-a700813f-35e3-4665-bd43-bc680eeef939\">\n",
              "    <div class=\"colab-df-container\">\n",
              "      <div>\n",
              "<style scoped>\n",
              "    .dataframe tbody tr th:only-of-type {\n",
              "        vertical-align: middle;\n",
              "    }\n",
              "\n",
              "    .dataframe tbody tr th {\n",
              "        vertical-align: top;\n",
              "    }\n",
              "\n",
              "    .dataframe thead th {\n",
              "        text-align: right;\n",
              "    }\n",
              "</style>\n",
              "<table border=\"1\" class=\"dataframe\">\n",
              "  <thead>\n",
              "    <tr style=\"text-align: right;\">\n",
              "      <th></th>\n",
              "      <th>Make</th>\n",
              "      <th>Model</th>\n",
              "      <th>Year</th>\n",
              "      <th>Variant</th>\n",
              "      <th>Kms</th>\n",
              "      <th>Price</th>\n",
              "      <th>Doors</th>\n",
              "      <th>Kind</th>\n",
              "      <th>Location</th>\n",
              "    </tr>\n",
              "  </thead>\n",
              "  <tbody>\n",
              "    <tr>\n",
              "      <th>1</th>\n",
              "      <td>Ford</td>\n",
              "      <td>Ranger</td>\n",
              "      <td>2012</td>\n",
              "      <td>2.3 Cd Xl Plus 4x2</td>\n",
              "      <td>140000</td>\n",
              "      <td>320000</td>\n",
              "      <td>2.0</td>\n",
              "      <td>Pick-Up</td>\n",
              "      <td>Entre Ríos</td>\n",
              "    </tr>\n",
              "    <tr>\n",
              "      <th>2</th>\n",
              "      <td>Volkswagen</td>\n",
              "      <td>Fox</td>\n",
              "      <td>2011</td>\n",
              "      <td>1.6 Trendline</td>\n",
              "      <td>132000</td>\n",
              "      <td>209980</td>\n",
              "      <td>5.0</td>\n",
              "      <td>Hatchback</td>\n",
              "      <td>Bs.as. G.b.a. Sur</td>\n",
              "    </tr>\n",
              "    <tr>\n",
              "      <th>3</th>\n",
              "      <td>Ford</td>\n",
              "      <td>Ranger</td>\n",
              "      <td>2017</td>\n",
              "      <td>3.2 Cd Xls Tdci 200cv Automática</td>\n",
              "      <td>13000</td>\n",
              "      <td>798000</td>\n",
              "      <td>4.0</td>\n",
              "      <td>Pick-Up</td>\n",
              "      <td>Neuquén</td>\n",
              "    </tr>\n",
              "    <tr>\n",
              "      <th>4</th>\n",
              "      <td>Volkswagen</td>\n",
              "      <td>Gol</td>\n",
              "      <td>2013</td>\n",
              "      <td>1.4 Power 83cv 3 p</td>\n",
              "      <td>107000</td>\n",
              "      <td>146000</td>\n",
              "      <td>3.0</td>\n",
              "      <td>Hatchback</td>\n",
              "      <td>Córdoba</td>\n",
              "    </tr>\n",
              "    <tr>\n",
              "      <th>5</th>\n",
              "      <td>Volkswagen</td>\n",
              "      <td>Amarok</td>\n",
              "      <td>2014</td>\n",
              "      <td>2.0 Cd Tdi 180cv 4x4 Highline C34</td>\n",
              "      <td>115000</td>\n",
              "      <td>790000</td>\n",
              "      <td>4.0</td>\n",
              "      <td>Pick-Up</td>\n",
              "      <td>Buenos Aires Interior</td>\n",
              "    </tr>\n",
              "  </tbody>\n",
              "</table>\n",
              "</div>\n",
              "      <button class=\"colab-df-convert\" onclick=\"convertToInteractive('df-a700813f-35e3-4665-bd43-bc680eeef939')\"\n",
              "              title=\"Convert this dataframe to an interactive table.\"\n",
              "              style=\"display:none;\">\n",
              "        \n",
              "  <svg xmlns=\"http://www.w3.org/2000/svg\" height=\"24px\"viewBox=\"0 0 24 24\"\n",
              "       width=\"24px\">\n",
              "    <path d=\"M0 0h24v24H0V0z\" fill=\"none\"/>\n",
              "    <path d=\"M18.56 5.44l.94 2.06.94-2.06 2.06-.94-2.06-.94-.94-2.06-.94 2.06-2.06.94zm-11 1L8.5 8.5l.94-2.06 2.06-.94-2.06-.94L8.5 2.5l-.94 2.06-2.06.94zm10 10l.94 2.06.94-2.06 2.06-.94-2.06-.94-.94-2.06-.94 2.06-2.06.94z\"/><path d=\"M17.41 7.96l-1.37-1.37c-.4-.4-.92-.59-1.43-.59-.52 0-1.04.2-1.43.59L10.3 9.45l-7.72 7.72c-.78.78-.78 2.05 0 2.83L4 21.41c.39.39.9.59 1.41.59.51 0 1.02-.2 1.41-.59l7.78-7.78 2.81-2.81c.8-.78.8-2.07 0-2.86zM5.41 20L4 18.59l7.72-7.72 1.47 1.35L5.41 20z\"/>\n",
              "  </svg>\n",
              "      </button>\n",
              "      \n",
              "  <style>\n",
              "    .colab-df-container {\n",
              "      display:flex;\n",
              "      flex-wrap:wrap;\n",
              "      gap: 12px;\n",
              "    }\n",
              "\n",
              "    .colab-df-convert {\n",
              "      background-color: #E8F0FE;\n",
              "      border: none;\n",
              "      border-radius: 50%;\n",
              "      cursor: pointer;\n",
              "      display: none;\n",
              "      fill: #1967D2;\n",
              "      height: 32px;\n",
              "      padding: 0 0 0 0;\n",
              "      width: 32px;\n",
              "    }\n",
              "\n",
              "    .colab-df-convert:hover {\n",
              "      background-color: #E2EBFA;\n",
              "      box-shadow: 0px 1px 2px rgba(60, 64, 67, 0.3), 0px 1px 3px 1px rgba(60, 64, 67, 0.15);\n",
              "      fill: #174EA6;\n",
              "    }\n",
              "\n",
              "    [theme=dark] .colab-df-convert {\n",
              "      background-color: #3B4455;\n",
              "      fill: #D2E3FC;\n",
              "    }\n",
              "\n",
              "    [theme=dark] .colab-df-convert:hover {\n",
              "      background-color: #434B5C;\n",
              "      box-shadow: 0px 1px 3px 1px rgba(0, 0, 0, 0.15);\n",
              "      filter: drop-shadow(0px 1px 2px rgba(0, 0, 0, 0.3));\n",
              "      fill: #FFFFFF;\n",
              "    }\n",
              "  </style>\n",
              "\n",
              "      <script>\n",
              "        const buttonEl =\n",
              "          document.querySelector('#df-a700813f-35e3-4665-bd43-bc680eeef939 button.colab-df-convert');\n",
              "        buttonEl.style.display =\n",
              "          google.colab.kernel.accessAllowed ? 'block' : 'none';\n",
              "\n",
              "        async function convertToInteractive(key) {\n",
              "          const element = document.querySelector('#df-a700813f-35e3-4665-bd43-bc680eeef939');\n",
              "          const dataTable =\n",
              "            await google.colab.kernel.invokeFunction('convertToInteractive',\n",
              "                                                     [key], {});\n",
              "          if (!dataTable) return;\n",
              "\n",
              "          const docLinkHtml = 'Like what you see? Visit the ' +\n",
              "            '<a target=\"_blank\" href=https://colab.research.google.com/notebooks/data_table.ipynb>data table notebook</a>'\n",
              "            + ' to learn more about interactive tables.';\n",
              "          element.innerHTML = '';\n",
              "          dataTable['output_type'] = 'display_data';\n",
              "          await google.colab.output.renderOutput(dataTable, element);\n",
              "          const docLink = document.createElement('div');\n",
              "          docLink.innerHTML = docLinkHtml;\n",
              "          element.appendChild(docLink);\n",
              "        }\n",
              "      </script>\n",
              "    </div>\n",
              "  </div>\n",
              "  "
            ]
          },
          "metadata": {},
          "execution_count": 28
        }
      ]
    },
    {
      "cell_type": "code",
      "metadata": {
        "id": "F_YoHItlcXm5",
        "colab": {
          "base_uri": "https://localhost:8080/",
          "height": 143
        },
        "outputId": "f8efa4dc-6530-4ec5-9892-41f051a7d0fd"
      },
      "source": [
        "# selecting discrete rows using integer location --> Pass list of indexes.\n",
        "# access row 1, 2, 4\n",
        "cars.iloc[[1,2,4]]"
      ],
      "execution_count": 30,
      "outputs": [
        {
          "output_type": "execute_result",
          "data": {
            "text/plain": [
              "         Make   Model  Year             Variant     Kms   Price  Doors  \\\n",
              "1        Ford  Ranger  2012  2.3 Cd Xl Plus 4x2  140000  320000    2.0   \n",
              "2  Volkswagen     Fox  2011       1.6 Trendline  132000  209980    5.0   \n",
              "4  Volkswagen     Gol  2013  1.4 Power 83cv 3 p  107000  146000    3.0   \n",
              "\n",
              "        Kind           Location  \n",
              "1    Pick-Up         Entre Ríos  \n",
              "2  Hatchback  Bs.as. G.b.a. Sur  \n",
              "4  Hatchback            Córdoba  "
            ],
            "text/html": [
              "\n",
              "  <div id=\"df-ae1197c0-b2cc-4d05-a2fd-e86f2bd888f1\">\n",
              "    <div class=\"colab-df-container\">\n",
              "      <div>\n",
              "<style scoped>\n",
              "    .dataframe tbody tr th:only-of-type {\n",
              "        vertical-align: middle;\n",
              "    }\n",
              "\n",
              "    .dataframe tbody tr th {\n",
              "        vertical-align: top;\n",
              "    }\n",
              "\n",
              "    .dataframe thead th {\n",
              "        text-align: right;\n",
              "    }\n",
              "</style>\n",
              "<table border=\"1\" class=\"dataframe\">\n",
              "  <thead>\n",
              "    <tr style=\"text-align: right;\">\n",
              "      <th></th>\n",
              "      <th>Make</th>\n",
              "      <th>Model</th>\n",
              "      <th>Year</th>\n",
              "      <th>Variant</th>\n",
              "      <th>Kms</th>\n",
              "      <th>Price</th>\n",
              "      <th>Doors</th>\n",
              "      <th>Kind</th>\n",
              "      <th>Location</th>\n",
              "    </tr>\n",
              "  </thead>\n",
              "  <tbody>\n",
              "    <tr>\n",
              "      <th>1</th>\n",
              "      <td>Ford</td>\n",
              "      <td>Ranger</td>\n",
              "      <td>2012</td>\n",
              "      <td>2.3 Cd Xl Plus 4x2</td>\n",
              "      <td>140000</td>\n",
              "      <td>320000</td>\n",
              "      <td>2.0</td>\n",
              "      <td>Pick-Up</td>\n",
              "      <td>Entre Ríos</td>\n",
              "    </tr>\n",
              "    <tr>\n",
              "      <th>2</th>\n",
              "      <td>Volkswagen</td>\n",
              "      <td>Fox</td>\n",
              "      <td>2011</td>\n",
              "      <td>1.6 Trendline</td>\n",
              "      <td>132000</td>\n",
              "      <td>209980</td>\n",
              "      <td>5.0</td>\n",
              "      <td>Hatchback</td>\n",
              "      <td>Bs.as. G.b.a. Sur</td>\n",
              "    </tr>\n",
              "    <tr>\n",
              "      <th>4</th>\n",
              "      <td>Volkswagen</td>\n",
              "      <td>Gol</td>\n",
              "      <td>2013</td>\n",
              "      <td>1.4 Power 83cv 3 p</td>\n",
              "      <td>107000</td>\n",
              "      <td>146000</td>\n",
              "      <td>3.0</td>\n",
              "      <td>Hatchback</td>\n",
              "      <td>Córdoba</td>\n",
              "    </tr>\n",
              "  </tbody>\n",
              "</table>\n",
              "</div>\n",
              "      <button class=\"colab-df-convert\" onclick=\"convertToInteractive('df-ae1197c0-b2cc-4d05-a2fd-e86f2bd888f1')\"\n",
              "              title=\"Convert this dataframe to an interactive table.\"\n",
              "              style=\"display:none;\">\n",
              "        \n",
              "  <svg xmlns=\"http://www.w3.org/2000/svg\" height=\"24px\"viewBox=\"0 0 24 24\"\n",
              "       width=\"24px\">\n",
              "    <path d=\"M0 0h24v24H0V0z\" fill=\"none\"/>\n",
              "    <path d=\"M18.56 5.44l.94 2.06.94-2.06 2.06-.94-2.06-.94-.94-2.06-.94 2.06-2.06.94zm-11 1L8.5 8.5l.94-2.06 2.06-.94-2.06-.94L8.5 2.5l-.94 2.06-2.06.94zm10 10l.94 2.06.94-2.06 2.06-.94-2.06-.94-.94-2.06-.94 2.06-2.06.94z\"/><path d=\"M17.41 7.96l-1.37-1.37c-.4-.4-.92-.59-1.43-.59-.52 0-1.04.2-1.43.59L10.3 9.45l-7.72 7.72c-.78.78-.78 2.05 0 2.83L4 21.41c.39.39.9.59 1.41.59.51 0 1.02-.2 1.41-.59l7.78-7.78 2.81-2.81c.8-.78.8-2.07 0-2.86zM5.41 20L4 18.59l7.72-7.72 1.47 1.35L5.41 20z\"/>\n",
              "  </svg>\n",
              "      </button>\n",
              "      \n",
              "  <style>\n",
              "    .colab-df-container {\n",
              "      display:flex;\n",
              "      flex-wrap:wrap;\n",
              "      gap: 12px;\n",
              "    }\n",
              "\n",
              "    .colab-df-convert {\n",
              "      background-color: #E8F0FE;\n",
              "      border: none;\n",
              "      border-radius: 50%;\n",
              "      cursor: pointer;\n",
              "      display: none;\n",
              "      fill: #1967D2;\n",
              "      height: 32px;\n",
              "      padding: 0 0 0 0;\n",
              "      width: 32px;\n",
              "    }\n",
              "\n",
              "    .colab-df-convert:hover {\n",
              "      background-color: #E2EBFA;\n",
              "      box-shadow: 0px 1px 2px rgba(60, 64, 67, 0.3), 0px 1px 3px 1px rgba(60, 64, 67, 0.15);\n",
              "      fill: #174EA6;\n",
              "    }\n",
              "\n",
              "    [theme=dark] .colab-df-convert {\n",
              "      background-color: #3B4455;\n",
              "      fill: #D2E3FC;\n",
              "    }\n",
              "\n",
              "    [theme=dark] .colab-df-convert:hover {\n",
              "      background-color: #434B5C;\n",
              "      box-shadow: 0px 1px 3px 1px rgba(0, 0, 0, 0.15);\n",
              "      filter: drop-shadow(0px 1px 2px rgba(0, 0, 0, 0.3));\n",
              "      fill: #FFFFFF;\n",
              "    }\n",
              "  </style>\n",
              "\n",
              "      <script>\n",
              "        const buttonEl =\n",
              "          document.querySelector('#df-ae1197c0-b2cc-4d05-a2fd-e86f2bd888f1 button.colab-df-convert');\n",
              "        buttonEl.style.display =\n",
              "          google.colab.kernel.accessAllowed ? 'block' : 'none';\n",
              "\n",
              "        async function convertToInteractive(key) {\n",
              "          const element = document.querySelector('#df-ae1197c0-b2cc-4d05-a2fd-e86f2bd888f1');\n",
              "          const dataTable =\n",
              "            await google.colab.kernel.invokeFunction('convertToInteractive',\n",
              "                                                     [key], {});\n",
              "          if (!dataTable) return;\n",
              "\n",
              "          const docLinkHtml = 'Like what you see? Visit the ' +\n",
              "            '<a target=\"_blank\" href=https://colab.research.google.com/notebooks/data_table.ipynb>data table notebook</a>'\n",
              "            + ' to learn more about interactive tables.';\n",
              "          element.innerHTML = '';\n",
              "          dataTable['output_type'] = 'display_data';\n",
              "          await google.colab.output.renderOutput(dataTable, element);\n",
              "          const docLink = document.createElement('div');\n",
              "          docLink.innerHTML = docLinkHtml;\n",
              "          element.appendChild(docLink);\n",
              "        }\n",
              "      </script>\n",
              "    </div>\n",
              "  </div>\n",
              "  "
            ]
          },
          "metadata": {},
          "execution_count": 30
        }
      ]
    },
    {
      "cell_type": "code",
      "metadata": {
        "id": "asVTZ5e2con6",
        "colab": {
          "base_uri": "https://localhost:8080/",
          "height": 143
        },
        "outputId": "7a17eb6b-186e-469e-ab72-9827402a94d0"
      },
      "source": [
        "# selecting certain rows and columns using iloc.\n",
        "# example: row --> 1, 2, 4 of column 1, 7\n",
        "cars.iloc[[1,2,4],[1,7]]"
      ],
      "execution_count": 33,
      "outputs": [
        {
          "output_type": "execute_result",
          "data": {
            "text/plain": [
              "    Model       Kind\n",
              "1  Ranger    Pick-Up\n",
              "2     Fox  Hatchback\n",
              "4     Gol  Hatchback"
            ],
            "text/html": [
              "\n",
              "  <div id=\"df-48f314b0-83ba-4c9d-a709-176fb1d5332c\">\n",
              "    <div class=\"colab-df-container\">\n",
              "      <div>\n",
              "<style scoped>\n",
              "    .dataframe tbody tr th:only-of-type {\n",
              "        vertical-align: middle;\n",
              "    }\n",
              "\n",
              "    .dataframe tbody tr th {\n",
              "        vertical-align: top;\n",
              "    }\n",
              "\n",
              "    .dataframe thead th {\n",
              "        text-align: right;\n",
              "    }\n",
              "</style>\n",
              "<table border=\"1\" class=\"dataframe\">\n",
              "  <thead>\n",
              "    <tr style=\"text-align: right;\">\n",
              "      <th></th>\n",
              "      <th>Model</th>\n",
              "      <th>Kind</th>\n",
              "    </tr>\n",
              "  </thead>\n",
              "  <tbody>\n",
              "    <tr>\n",
              "      <th>1</th>\n",
              "      <td>Ranger</td>\n",
              "      <td>Pick-Up</td>\n",
              "    </tr>\n",
              "    <tr>\n",
              "      <th>2</th>\n",
              "      <td>Fox</td>\n",
              "      <td>Hatchback</td>\n",
              "    </tr>\n",
              "    <tr>\n",
              "      <th>4</th>\n",
              "      <td>Gol</td>\n",
              "      <td>Hatchback</td>\n",
              "    </tr>\n",
              "  </tbody>\n",
              "</table>\n",
              "</div>\n",
              "      <button class=\"colab-df-convert\" onclick=\"convertToInteractive('df-48f314b0-83ba-4c9d-a709-176fb1d5332c')\"\n",
              "              title=\"Convert this dataframe to an interactive table.\"\n",
              "              style=\"display:none;\">\n",
              "        \n",
              "  <svg xmlns=\"http://www.w3.org/2000/svg\" height=\"24px\"viewBox=\"0 0 24 24\"\n",
              "       width=\"24px\">\n",
              "    <path d=\"M0 0h24v24H0V0z\" fill=\"none\"/>\n",
              "    <path d=\"M18.56 5.44l.94 2.06.94-2.06 2.06-.94-2.06-.94-.94-2.06-.94 2.06-2.06.94zm-11 1L8.5 8.5l.94-2.06 2.06-.94-2.06-.94L8.5 2.5l-.94 2.06-2.06.94zm10 10l.94 2.06.94-2.06 2.06-.94-2.06-.94-.94-2.06-.94 2.06-2.06.94z\"/><path d=\"M17.41 7.96l-1.37-1.37c-.4-.4-.92-.59-1.43-.59-.52 0-1.04.2-1.43.59L10.3 9.45l-7.72 7.72c-.78.78-.78 2.05 0 2.83L4 21.41c.39.39.9.59 1.41.59.51 0 1.02-.2 1.41-.59l7.78-7.78 2.81-2.81c.8-.78.8-2.07 0-2.86zM5.41 20L4 18.59l7.72-7.72 1.47 1.35L5.41 20z\"/>\n",
              "  </svg>\n",
              "      </button>\n",
              "      \n",
              "  <style>\n",
              "    .colab-df-container {\n",
              "      display:flex;\n",
              "      flex-wrap:wrap;\n",
              "      gap: 12px;\n",
              "    }\n",
              "\n",
              "    .colab-df-convert {\n",
              "      background-color: #E8F0FE;\n",
              "      border: none;\n",
              "      border-radius: 50%;\n",
              "      cursor: pointer;\n",
              "      display: none;\n",
              "      fill: #1967D2;\n",
              "      height: 32px;\n",
              "      padding: 0 0 0 0;\n",
              "      width: 32px;\n",
              "    }\n",
              "\n",
              "    .colab-df-convert:hover {\n",
              "      background-color: #E2EBFA;\n",
              "      box-shadow: 0px 1px 2px rgba(60, 64, 67, 0.3), 0px 1px 3px 1px rgba(60, 64, 67, 0.15);\n",
              "      fill: #174EA6;\n",
              "    }\n",
              "\n",
              "    [theme=dark] .colab-df-convert {\n",
              "      background-color: #3B4455;\n",
              "      fill: #D2E3FC;\n",
              "    }\n",
              "\n",
              "    [theme=dark] .colab-df-convert:hover {\n",
              "      background-color: #434B5C;\n",
              "      box-shadow: 0px 1px 3px 1px rgba(0, 0, 0, 0.15);\n",
              "      filter: drop-shadow(0px 1px 2px rgba(0, 0, 0, 0.3));\n",
              "      fill: #FFFFFF;\n",
              "    }\n",
              "  </style>\n",
              "\n",
              "      <script>\n",
              "        const buttonEl =\n",
              "          document.querySelector('#df-48f314b0-83ba-4c9d-a709-176fb1d5332c button.colab-df-convert');\n",
              "        buttonEl.style.display =\n",
              "          google.colab.kernel.accessAllowed ? 'block' : 'none';\n",
              "\n",
              "        async function convertToInteractive(key) {\n",
              "          const element = document.querySelector('#df-48f314b0-83ba-4c9d-a709-176fb1d5332c');\n",
              "          const dataTable =\n",
              "            await google.colab.kernel.invokeFunction('convertToInteractive',\n",
              "                                                     [key], {});\n",
              "          if (!dataTable) return;\n",
              "\n",
              "          const docLinkHtml = 'Like what you see? Visit the ' +\n",
              "            '<a target=\"_blank\" href=https://colab.research.google.com/notebooks/data_table.ipynb>data table notebook</a>'\n",
              "            + ' to learn more about interactive tables.';\n",
              "          element.innerHTML = '';\n",
              "          dataTable['output_type'] = 'display_data';\n",
              "          await google.colab.output.renderOutput(dataTable, element);\n",
              "          const docLink = document.createElement('div');\n",
              "          docLink.innerHTML = docLinkHtml;\n",
              "          element.appendChild(docLink);\n",
              "        }\n",
              "      </script>\n",
              "    </div>\n",
              "  </div>\n",
              "  "
            ]
          },
          "metadata": {},
          "execution_count": 33
        }
      ]
    },
    {
      "cell_type": "code",
      "metadata": {
        "id": "GipOVqj0c6dr",
        "colab": {
          "base_uri": "https://localhost:8080/",
          "height": 143
        },
        "outputId": "5df32d57-f121-4d14-9a93-8401637baf25"
      },
      "source": [
        "# selecting certain row & cols using loc. \n",
        "# Select row 1, 2, 4, 100 of column 'Year', 'Make' \n",
        "cars.loc[[1,2,4],['Year', 'Make']]"
      ],
      "execution_count": 34,
      "outputs": [
        {
          "output_type": "execute_result",
          "data": {
            "text/plain": [
              "   Year        Make\n",
              "1  2012        Ford\n",
              "2  2011  Volkswagen\n",
              "4  2013  Volkswagen"
            ],
            "text/html": [
              "\n",
              "  <div id=\"df-e32a0866-67bc-42ca-a4d5-5c98f79ab20b\">\n",
              "    <div class=\"colab-df-container\">\n",
              "      <div>\n",
              "<style scoped>\n",
              "    .dataframe tbody tr th:only-of-type {\n",
              "        vertical-align: middle;\n",
              "    }\n",
              "\n",
              "    .dataframe tbody tr th {\n",
              "        vertical-align: top;\n",
              "    }\n",
              "\n",
              "    .dataframe thead th {\n",
              "        text-align: right;\n",
              "    }\n",
              "</style>\n",
              "<table border=\"1\" class=\"dataframe\">\n",
              "  <thead>\n",
              "    <tr style=\"text-align: right;\">\n",
              "      <th></th>\n",
              "      <th>Year</th>\n",
              "      <th>Make</th>\n",
              "    </tr>\n",
              "  </thead>\n",
              "  <tbody>\n",
              "    <tr>\n",
              "      <th>1</th>\n",
              "      <td>2012</td>\n",
              "      <td>Ford</td>\n",
              "    </tr>\n",
              "    <tr>\n",
              "      <th>2</th>\n",
              "      <td>2011</td>\n",
              "      <td>Volkswagen</td>\n",
              "    </tr>\n",
              "    <tr>\n",
              "      <th>4</th>\n",
              "      <td>2013</td>\n",
              "      <td>Volkswagen</td>\n",
              "    </tr>\n",
              "  </tbody>\n",
              "</table>\n",
              "</div>\n",
              "      <button class=\"colab-df-convert\" onclick=\"convertToInteractive('df-e32a0866-67bc-42ca-a4d5-5c98f79ab20b')\"\n",
              "              title=\"Convert this dataframe to an interactive table.\"\n",
              "              style=\"display:none;\">\n",
              "        \n",
              "  <svg xmlns=\"http://www.w3.org/2000/svg\" height=\"24px\"viewBox=\"0 0 24 24\"\n",
              "       width=\"24px\">\n",
              "    <path d=\"M0 0h24v24H0V0z\" fill=\"none\"/>\n",
              "    <path d=\"M18.56 5.44l.94 2.06.94-2.06 2.06-.94-2.06-.94-.94-2.06-.94 2.06-2.06.94zm-11 1L8.5 8.5l.94-2.06 2.06-.94-2.06-.94L8.5 2.5l-.94 2.06-2.06.94zm10 10l.94 2.06.94-2.06 2.06-.94-2.06-.94-.94-2.06-.94 2.06-2.06.94z\"/><path d=\"M17.41 7.96l-1.37-1.37c-.4-.4-.92-.59-1.43-.59-.52 0-1.04.2-1.43.59L10.3 9.45l-7.72 7.72c-.78.78-.78 2.05 0 2.83L4 21.41c.39.39.9.59 1.41.59.51 0 1.02-.2 1.41-.59l7.78-7.78 2.81-2.81c.8-.78.8-2.07 0-2.86zM5.41 20L4 18.59l7.72-7.72 1.47 1.35L5.41 20z\"/>\n",
              "  </svg>\n",
              "      </button>\n",
              "      \n",
              "  <style>\n",
              "    .colab-df-container {\n",
              "      display:flex;\n",
              "      flex-wrap:wrap;\n",
              "      gap: 12px;\n",
              "    }\n",
              "\n",
              "    .colab-df-convert {\n",
              "      background-color: #E8F0FE;\n",
              "      border: none;\n",
              "      border-radius: 50%;\n",
              "      cursor: pointer;\n",
              "      display: none;\n",
              "      fill: #1967D2;\n",
              "      height: 32px;\n",
              "      padding: 0 0 0 0;\n",
              "      width: 32px;\n",
              "    }\n",
              "\n",
              "    .colab-df-convert:hover {\n",
              "      background-color: #E2EBFA;\n",
              "      box-shadow: 0px 1px 2px rgba(60, 64, 67, 0.3), 0px 1px 3px 1px rgba(60, 64, 67, 0.15);\n",
              "      fill: #174EA6;\n",
              "    }\n",
              "\n",
              "    [theme=dark] .colab-df-convert {\n",
              "      background-color: #3B4455;\n",
              "      fill: #D2E3FC;\n",
              "    }\n",
              "\n",
              "    [theme=dark] .colab-df-convert:hover {\n",
              "      background-color: #434B5C;\n",
              "      box-shadow: 0px 1px 3px 1px rgba(0, 0, 0, 0.15);\n",
              "      filter: drop-shadow(0px 1px 2px rgba(0, 0, 0, 0.3));\n",
              "      fill: #FFFFFF;\n",
              "    }\n",
              "  </style>\n",
              "\n",
              "      <script>\n",
              "        const buttonEl =\n",
              "          document.querySelector('#df-e32a0866-67bc-42ca-a4d5-5c98f79ab20b button.colab-df-convert');\n",
              "        buttonEl.style.display =\n",
              "          google.colab.kernel.accessAllowed ? 'block' : 'none';\n",
              "\n",
              "        async function convertToInteractive(key) {\n",
              "          const element = document.querySelector('#df-e32a0866-67bc-42ca-a4d5-5c98f79ab20b');\n",
              "          const dataTable =\n",
              "            await google.colab.kernel.invokeFunction('convertToInteractive',\n",
              "                                                     [key], {});\n",
              "          if (!dataTable) return;\n",
              "\n",
              "          const docLinkHtml = 'Like what you see? Visit the ' +\n",
              "            '<a target=\"_blank\" href=https://colab.research.google.com/notebooks/data_table.ipynb>data table notebook</a>'\n",
              "            + ' to learn more about interactive tables.';\n",
              "          element.innerHTML = '';\n",
              "          dataTable['output_type'] = 'display_data';\n",
              "          await google.colab.output.renderOutput(dataTable, element);\n",
              "          const docLink = document.createElement('div');\n",
              "          docLink.innerHTML = docLinkHtml;\n",
              "          element.appendChild(docLink);\n",
              "        }\n",
              "      </script>\n",
              "    </div>\n",
              "  </div>\n",
              "  "
            ]
          },
          "metadata": {},
          "execution_count": 34
        }
      ]
    },
    {
      "cell_type": "code",
      "metadata": {
        "id": "ZG7yknjsFTbY",
        "colab": {
          "base_uri": "https://localhost:8080/",
          "height": 300
        },
        "outputId": "cced3c4e-d009-4839-cbed-5f4bd3b3fe12"
      },
      "source": [
        "# Describe the numerical columns.  Get mean, std \n",
        "cars.describe()"
      ],
      "execution_count": 39,
      "outputs": [
        {
          "output_type": "execute_result",
          "data": {
            "text/plain": [
              "               Year            Kms         Price         Doors\n",
              "count  10000.000000   10000.000000  1.000000e+04  10000.000000\n",
              "mean    2013.293800   74483.338400  3.495455e+05      4.295800\n",
              "std        1.816043   35150.279998  1.773396e+05      0.889821\n",
              "min     2011.000000    5094.000000  6.300000e+03      2.000000\n",
              "25%     2012.000000   49500.000000  2.290000e+05      4.000000\n",
              "50%     2013.000000   73000.000000  3.000000e+05      5.000000\n",
              "75%     2015.000000   97000.000000  4.300000e+05      5.000000\n",
              "max     2018.000000  218000.000000  2.800000e+06      5.000000"
            ],
            "text/html": [
              "\n",
              "  <div id=\"df-329f8b66-8134-4719-894e-65ba548d2afb\">\n",
              "    <div class=\"colab-df-container\">\n",
              "      <div>\n",
              "<style scoped>\n",
              "    .dataframe tbody tr th:only-of-type {\n",
              "        vertical-align: middle;\n",
              "    }\n",
              "\n",
              "    .dataframe tbody tr th {\n",
              "        vertical-align: top;\n",
              "    }\n",
              "\n",
              "    .dataframe thead th {\n",
              "        text-align: right;\n",
              "    }\n",
              "</style>\n",
              "<table border=\"1\" class=\"dataframe\">\n",
              "  <thead>\n",
              "    <tr style=\"text-align: right;\">\n",
              "      <th></th>\n",
              "      <th>Year</th>\n",
              "      <th>Kms</th>\n",
              "      <th>Price</th>\n",
              "      <th>Doors</th>\n",
              "    </tr>\n",
              "  </thead>\n",
              "  <tbody>\n",
              "    <tr>\n",
              "      <th>count</th>\n",
              "      <td>10000.000000</td>\n",
              "      <td>10000.000000</td>\n",
              "      <td>1.000000e+04</td>\n",
              "      <td>10000.000000</td>\n",
              "    </tr>\n",
              "    <tr>\n",
              "      <th>mean</th>\n",
              "      <td>2013.293800</td>\n",
              "      <td>74483.338400</td>\n",
              "      <td>3.495455e+05</td>\n",
              "      <td>4.295800</td>\n",
              "    </tr>\n",
              "    <tr>\n",
              "      <th>std</th>\n",
              "      <td>1.816043</td>\n",
              "      <td>35150.279998</td>\n",
              "      <td>1.773396e+05</td>\n",
              "      <td>0.889821</td>\n",
              "    </tr>\n",
              "    <tr>\n",
              "      <th>min</th>\n",
              "      <td>2011.000000</td>\n",
              "      <td>5094.000000</td>\n",
              "      <td>6.300000e+03</td>\n",
              "      <td>2.000000</td>\n",
              "    </tr>\n",
              "    <tr>\n",
              "      <th>25%</th>\n",
              "      <td>2012.000000</td>\n",
              "      <td>49500.000000</td>\n",
              "      <td>2.290000e+05</td>\n",
              "      <td>4.000000</td>\n",
              "    </tr>\n",
              "    <tr>\n",
              "      <th>50%</th>\n",
              "      <td>2013.000000</td>\n",
              "      <td>73000.000000</td>\n",
              "      <td>3.000000e+05</td>\n",
              "      <td>5.000000</td>\n",
              "    </tr>\n",
              "    <tr>\n",
              "      <th>75%</th>\n",
              "      <td>2015.000000</td>\n",
              "      <td>97000.000000</td>\n",
              "      <td>4.300000e+05</td>\n",
              "      <td>5.000000</td>\n",
              "    </tr>\n",
              "    <tr>\n",
              "      <th>max</th>\n",
              "      <td>2018.000000</td>\n",
              "      <td>218000.000000</td>\n",
              "      <td>2.800000e+06</td>\n",
              "      <td>5.000000</td>\n",
              "    </tr>\n",
              "  </tbody>\n",
              "</table>\n",
              "</div>\n",
              "      <button class=\"colab-df-convert\" onclick=\"convertToInteractive('df-329f8b66-8134-4719-894e-65ba548d2afb')\"\n",
              "              title=\"Convert this dataframe to an interactive table.\"\n",
              "              style=\"display:none;\">\n",
              "        \n",
              "  <svg xmlns=\"http://www.w3.org/2000/svg\" height=\"24px\"viewBox=\"0 0 24 24\"\n",
              "       width=\"24px\">\n",
              "    <path d=\"M0 0h24v24H0V0z\" fill=\"none\"/>\n",
              "    <path d=\"M18.56 5.44l.94 2.06.94-2.06 2.06-.94-2.06-.94-.94-2.06-.94 2.06-2.06.94zm-11 1L8.5 8.5l.94-2.06 2.06-.94-2.06-.94L8.5 2.5l-.94 2.06-2.06.94zm10 10l.94 2.06.94-2.06 2.06-.94-2.06-.94-.94-2.06-.94 2.06-2.06.94z\"/><path d=\"M17.41 7.96l-1.37-1.37c-.4-.4-.92-.59-1.43-.59-.52 0-1.04.2-1.43.59L10.3 9.45l-7.72 7.72c-.78.78-.78 2.05 0 2.83L4 21.41c.39.39.9.59 1.41.59.51 0 1.02-.2 1.41-.59l7.78-7.78 2.81-2.81c.8-.78.8-2.07 0-2.86zM5.41 20L4 18.59l7.72-7.72 1.47 1.35L5.41 20z\"/>\n",
              "  </svg>\n",
              "      </button>\n",
              "      \n",
              "  <style>\n",
              "    .colab-df-container {\n",
              "      display:flex;\n",
              "      flex-wrap:wrap;\n",
              "      gap: 12px;\n",
              "    }\n",
              "\n",
              "    .colab-df-convert {\n",
              "      background-color: #E8F0FE;\n",
              "      border: none;\n",
              "      border-radius: 50%;\n",
              "      cursor: pointer;\n",
              "      display: none;\n",
              "      fill: #1967D2;\n",
              "      height: 32px;\n",
              "      padding: 0 0 0 0;\n",
              "      width: 32px;\n",
              "    }\n",
              "\n",
              "    .colab-df-convert:hover {\n",
              "      background-color: #E2EBFA;\n",
              "      box-shadow: 0px 1px 2px rgba(60, 64, 67, 0.3), 0px 1px 3px 1px rgba(60, 64, 67, 0.15);\n",
              "      fill: #174EA6;\n",
              "    }\n",
              "\n",
              "    [theme=dark] .colab-df-convert {\n",
              "      background-color: #3B4455;\n",
              "      fill: #D2E3FC;\n",
              "    }\n",
              "\n",
              "    [theme=dark] .colab-df-convert:hover {\n",
              "      background-color: #434B5C;\n",
              "      box-shadow: 0px 1px 3px 1px rgba(0, 0, 0, 0.15);\n",
              "      filter: drop-shadow(0px 1px 2px rgba(0, 0, 0, 0.3));\n",
              "      fill: #FFFFFF;\n",
              "    }\n",
              "  </style>\n",
              "\n",
              "      <script>\n",
              "        const buttonEl =\n",
              "          document.querySelector('#df-329f8b66-8134-4719-894e-65ba548d2afb button.colab-df-convert');\n",
              "        buttonEl.style.display =\n",
              "          google.colab.kernel.accessAllowed ? 'block' : 'none';\n",
              "\n",
              "        async function convertToInteractive(key) {\n",
              "          const element = document.querySelector('#df-329f8b66-8134-4719-894e-65ba548d2afb');\n",
              "          const dataTable =\n",
              "            await google.colab.kernel.invokeFunction('convertToInteractive',\n",
              "                                                     [key], {});\n",
              "          if (!dataTable) return;\n",
              "\n",
              "          const docLinkHtml = 'Like what you see? Visit the ' +\n",
              "            '<a target=\"_blank\" href=https://colab.research.google.com/notebooks/data_table.ipynb>data table notebook</a>'\n",
              "            + ' to learn more about interactive tables.';\n",
              "          element.innerHTML = '';\n",
              "          dataTable['output_type'] = 'display_data';\n",
              "          await google.colab.output.renderOutput(dataTable, element);\n",
              "          const docLink = document.createElement('div');\n",
              "          docLink.innerHTML = docLinkHtml;\n",
              "          element.appendChild(docLink);\n",
              "        }\n",
              "      </script>\n",
              "    </div>\n",
              "  </div>\n",
              "  "
            ]
          },
          "metadata": {},
          "execution_count": 39
        }
      ]
    },
    {
      "cell_type": "markdown",
      "metadata": {
        "id": "ZcD-AnFDFlTy"
      },
      "source": [
        "## Conclusion:\n",
        "- we have 10.000 cars in the dataset\n",
        "- we have 8 columns\n",
        "- we have the following information for each car: Make, Model, year, Variant, Kms, Price, Doors, Kind, Location\n",
        "- Kms, Year, Price and Doors are numerical, the rest is text."
      ]
    },
    {
      "cell_type": "markdown",
      "metadata": {
        "id": "GNxP36gGIeRV"
      },
      "source": [
        "## 2. What kind of cars are sold?\n",
        "\n",
        "How can we split this question up? \n",
        "\n",
        "What kind of:\n",
        "- Makes \n",
        "- Kinds"
      ]
    },
    {
      "cell_type": "code",
      "metadata": {
        "id": "1ew-x24zUnQy",
        "colab": {
          "base_uri": "https://localhost:8080/"
        },
        "outputId": "adb2c203-11b8-48cc-c58e-de34014396d6"
      },
      "source": [
        "# Select column from pandas can be done with a . or with [\"\"]\n",
        "# select with [\"\"]. Select Make column\n",
        "\n",
        "cars['Kind']"
      ],
      "execution_count": 44,
      "outputs": [
        {
          "output_type": "execute_result",
          "data": {
            "text/plain": [
              "0           Sedán\n",
              "1         Pick-Up\n",
              "2       Hatchback\n",
              "3         Pick-Up\n",
              "4       Hatchback\n",
              "          ...    \n",
              "9995    Hatchback\n",
              "9996        Sedán\n",
              "9997    Hatchback\n",
              "9998    Hatchback\n",
              "9999    Hatchback\n",
              "Name: Kind, Length: 10000, dtype: object"
            ]
          },
          "metadata": {},
          "execution_count": 44
        }
      ]
    },
    {
      "cell_type": "code",
      "metadata": {
        "id": "h03WjxZSUs94",
        "colab": {
          "base_uri": "https://localhost:8080/"
        },
        "outputId": "4a28ae18-8117-462a-fcb5-fec4cbde1d66"
      },
      "source": [
        "# Unique values. Get the unique values\n",
        "cars['Kind'].unique()"
      ],
      "execution_count": 46,
      "outputs": [
        {
          "output_type": "execute_result",
          "data": {
            "text/plain": [
              "array(['Sedán', 'Pick-Up', 'Hatchback', 'SUV', 'Furgón', 'Monovolumen',\n",
              "       'Coupé', 'Cabriolet', 'Rural', 'Minivan'], dtype=object)"
            ]
          },
          "metadata": {},
          "execution_count": 46
        }
      ]
    },
    {
      "cell_type": "code",
      "metadata": {
        "id": "ZXhGujCyzyM7",
        "colab": {
          "base_uri": "https://localhost:8080/"
        },
        "outputId": "6ccc40dc-c77c-405e-bd49-45bb34d5d004"
      },
      "source": [
        "# select with a . and get unique values\n",
        "cars.Kind.unique()"
      ],
      "execution_count": 49,
      "outputs": [
        {
          "output_type": "execute_result",
          "data": {
            "text/plain": [
              "array(['Sedán', 'Pick-Up', 'Hatchback', 'SUV', 'Furgón', 'Monovolumen',\n",
              "       'Coupé', 'Cabriolet', 'Rural', 'Minivan'], dtype=object)"
            ]
          },
          "metadata": {},
          "execution_count": 49
        }
      ]
    },
    {
      "cell_type": "code",
      "metadata": {
        "id": "iZ7EjhybT-O2",
        "colab": {
          "base_uri": "https://localhost:8080/"
        },
        "outputId": "7faf411f-e248-4c14-d2dd-b57bf35d0c39"
      },
      "source": [
        "# get value counts\n",
        "cars['Kind'].value_counts()"
      ],
      "execution_count": 63,
      "outputs": [
        {
          "output_type": "execute_result",
          "data": {
            "text/plain": [
              "Hatchback      4056\n",
              "Sedán          2173\n",
              "Pick-Up        1547\n",
              "SUV            1305\n",
              "Monovolumen     705\n",
              "Coupé            90\n",
              "Rural            59\n",
              "Furgón           53\n",
              "Cabriolet        11\n",
              "Minivan           1\n",
              "Name: Kind, dtype: int64"
            ]
          },
          "metadata": {},
          "execution_count": 63
        }
      ]
    },
    {
      "cell_type": "code",
      "metadata": {
        "id": "VHgOfFiBVKBq",
        "colab": {
          "base_uri": "https://localhost:8080/",
          "height": 343
        },
        "outputId": "a7cbe52c-54fc-4e09-a2f0-30ae20fd57dd"
      },
      "source": [
        "# Quick bar plot of value counts\n",
        "(cars['Kind'].value_counts()).plot.bar()"
      ],
      "execution_count": 62,
      "outputs": [
        {
          "output_type": "execute_result",
          "data": {
            "text/plain": [
              "<matplotlib.axes._subplots.AxesSubplot at 0x7f7ed86ec450>"
            ]
          },
          "metadata": {},
          "execution_count": 62
        },
        {
          "output_type": "display_data",
          "data": {
            "text/plain": [
              "<Figure size 432x288 with 1 Axes>"
            ],
            "image/png": "[encoded data removed]"
          },
          "metadata": {
            "needs_background": "light"
          }
        }
      ]
    },
    {
      "cell_type": "code",
      "metadata": {
        "id": "fvGw9oYuUZMn",
        "colab": {
          "base_uri": "https://localhost:8080/"
        },
        "outputId": "44e14244-f42e-4fdc-b1ef-b51bfcbd4079"
      },
      "source": [
        "# Find unique values, value counts for column 'Kind'\n",
        "cars['Kind'].unique()"
      ],
      "execution_count": 64,
      "outputs": [
        {
          "output_type": "execute_result",
          "data": {
            "text/plain": [
              "array(['Sedán', 'Pick-Up', 'Hatchback', 'SUV', 'Furgón', 'Monovolumen',\n",
              "       'Coupé', 'Cabriolet', 'Rural', 'Minivan'], dtype=object)"
            ]
          },
          "metadata": {},
          "execution_count": 64
        }
      ]
    },
    {
      "cell_type": "code",
      "metadata": {
        "id": "vmhbUbGcV75Y",
        "colab": {
          "base_uri": "https://localhost:8080/"
        },
        "outputId": "55bf091f-758c-40ca-91d1-05271ce80e2e"
      },
      "source": [
        "cars['Kind'].value_counts()"
      ],
      "execution_count": 65,
      "outputs": [
        {
          "output_type": "execute_result",
          "data": {
            "text/plain": [
              "Hatchback      4056\n",
              "Sedán          2173\n",
              "Pick-Up        1547\n",
              "SUV            1305\n",
              "Monovolumen     705\n",
              "Coupé            90\n",
              "Rural            59\n",
              "Furgón           53\n",
              "Cabriolet        11\n",
              "Minivan           1\n",
              "Name: Kind, dtype: int64"
            ]
          },
          "metadata": {},
          "execution_count": 65
        }
      ]
    },
    {
      "cell_type": "markdown",
      "metadata": {
        "id": "Y8fzO1o_WR3_"
      },
      "source": [
        "## Conclusion:\n",
        "- There are 5 different car brands in the dataset\n",
        "- Most cars which are sold are Volkswagen, followed by Ford. \n",
        "- The most common car kind sold is a hatchback, followed by Sedán and Pick-up. "
      ]
    },
    {
      "cell_type": "markdown",
      "metadata": {
        "id": "pbupavq70LVX"
      },
      "source": [
        "# 3. Where are the cars sold?"
      ]
    },
    {
      "cell_type": "code",
      "source": [
        "cars.columns"
      ],
      "metadata": {
        "colab": {
          "base_uri": "https://localhost:8080/"
        },
        "id": "26hBdh9svRr3",
        "outputId": "54dd50c1-61da-4697-d5f3-8965338242db"
      },
      "execution_count": 73,
      "outputs": [
        {
          "output_type": "execute_result",
          "data": {
            "text/plain": [
              "Index(['Make', 'Model', 'Year', 'Variant', 'Kms', 'Price', 'Doors', 'Kind',\n",
              "       'Location'],\n",
              "      dtype='object')"
            ]
          },
          "metadata": {},
          "execution_count": 73
        }
      ]
    },
    {
      "cell_type": "code",
      "metadata": {
        "id": "4Uc1XWqFVnjN",
        "colab": {
          "base_uri": "https://localhost:8080/"
        },
        "outputId": "f51d7f7f-7503-4be8-8918-5c8dee5e21d0"
      },
      "source": [
        "# Explore the location column\n",
        "cars['Location']"
      ],
      "execution_count": 75,
      "outputs": [
        {
          "output_type": "execute_result",
          "data": {
            "text/plain": [
              "0                     Córdoba\n",
              "1                  Entre Ríos\n",
              "2           Bs.as. G.b.a. Sur\n",
              "3                     Neuquén\n",
              "4                     Córdoba\n",
              "                ...          \n",
              "9995      Bs.as. G.b.a. Oeste\n",
              "9996    Buenos Aires Interior\n",
              "9997                  Tucumán\n",
              "9998    Buenos Aires Interior\n",
              "9999        Bs.as. G.b.a. Sur\n",
              "Name: Location, Length: 10000, dtype: object"
            ]
          },
          "metadata": {},
          "execution_count": 75
        }
      ]
    },
    {
      "cell_type": "code",
      "metadata": {
        "id": "TYOSYsfLVuW1",
        "colab": {
          "base_uri": "https://localhost:8080/"
        },
        "outputId": "e3b86e2e-e4c5-4f4e-aa50-734db3a9667a"
      },
      "source": [
        "# number of unique values\n",
        "cars['Location'].nunique()"
      ],
      "execution_count": 76,
      "outputs": [
        {
          "output_type": "execute_result",
          "data": {
            "text/plain": [
              "28"
            ]
          },
          "metadata": {},
          "execution_count": 76
        }
      ]
    },
    {
      "cell_type": "code",
      "metadata": {
        "id": "RhZvGw_p0See",
        "colab": {
          "base_uri": "https://localhost:8080/"
        },
        "outputId": "27b29e7c-8a5a-4cd2-b69b-6765ad8944f6"
      },
      "source": [
        "# which are those unique values?\n",
        "cars['Location'].unique()"
      ],
      "execution_count": 77,
      "outputs": [
        {
          "output_type": "execute_result",
          "data": {
            "text/plain": [
              "array(['Córdoba', 'Entre Ríos', 'Bs.as. G.b.a. Sur', 'Neuquén',\n",
              "       'Buenos Aires Interior', 'Bs.as. G.b.a. Norte', 'Capital Federal',\n",
              "       'Bs.as. G.b.a. Oeste', 'Tierra Del Fuego', 'Santa Fe', 'Mendoza',\n",
              "       'Misiones', 'La Pampa', 'Chaco', 'Salta', 'Bs.as. Costa Atlántica',\n",
              "       'Santa Cruz', 'Corrientes', 'Tucumán', 'San Juan', 'Catamarca',\n",
              "       'San Luis', 'Río Negro', 'Chubut', 'Jujuy', 'Formosa',\n",
              "       'Santiago Del Estero', 'La Rioja'], dtype=object)"
            ]
          },
          "metadata": {},
          "execution_count": 77
        }
      ]
    },
    {
      "cell_type": "code",
      "metadata": {
        "id": "mg7t6A6nDNJy",
        "colab": {
          "base_uri": "https://localhost:8080/"
        },
        "outputId": "e30f9e90-c4a7-48fc-fd39-084ca92cd593"
      },
      "source": [
        "# what about car manufacturers? how many? unique?\n",
        "print(cars['Make'].nunique())\n",
        "cars['Make'].unique()"
      ],
      "execution_count": 80,
      "outputs": [
        {
          "output_type": "stream",
          "name": "stdout",
          "text": [
            "5\n"
          ]
        },
        {
          "output_type": "execute_result",
          "data": {
            "text/plain": [
              "array(['Volkswagen', 'Ford', 'Mercedes Benz', 'Honda', 'Chrysler'],\n",
              "      dtype=object)"
            ]
          },
          "metadata": {},
          "execution_count": 80
        }
      ]
    },
    {
      "cell_type": "code",
      "source": [
        "cars['Make'].value_counts()"
      ],
      "metadata": {
        "colab": {
          "base_uri": "https://localhost:8080/"
        },
        "id": "s0GHDfXSyqaZ",
        "outputId": "26f2981e-6ac6-4664-a9c3-cbc37fa143eb"
      },
      "execution_count": 84,
      "outputs": [
        {
          "output_type": "execute_result",
          "data": {
            "text/plain": [
              "Volkswagen       5173\n",
              "Ford             4025\n",
              "Honda             522\n",
              "Mercedes Benz     256\n",
              "Chrysler           24\n",
              "Name: Make, dtype: int64"
            ]
          },
          "metadata": {},
          "execution_count": 84
        }
      ]
    },
    {
      "cell_type": "code",
      "source": [
        "# quick bar plot\n",
        "(cars['Make'].value_counts()).plot.bar()"
      ],
      "metadata": {
        "id": "_PIuhUsQN14N",
        "colab": {
          "base_uri": "https://localhost:8080/",
          "height": 348
        },
        "outputId": "f5407068-a03b-4331-96ac-bbfbf088cbee"
      },
      "execution_count": 83,
      "outputs": [
        {
          "output_type": "execute_result",
          "data": {
            "text/plain": [
              "<matplotlib.axes._subplots.AxesSubplot at 0x7f7ed86e5390>"
            ]
          },
          "metadata": {},
          "execution_count": 83
        },
        {
          "output_type": "display_data",
          "data": {
            "text/plain": [
              "<Figure size 432x288 with 1 Axes>"
            ],
            "image/png": "[encoded data removed]"
          },
          "metadata": {
            "needs_background": "light"
          }
        }
      ]
    },
    {
      "cell_type": "markdown",
      "metadata": {
        "id": "XFR9HPhmotiB"
      },
      "source": [
        "## Conclusion:\n",
        "- There are 28 different regions.\n",
        "- The biggest region is Capital Federal.\n",
        "- There are a few regions where lots of cars are.\n",
        "- There are lots of regions where a few cars are."
      ]
    },
    {
      "cell_type": "markdown",
      "metadata": {
        "id": "oQb7I4z31tJp"
      },
      "source": [
        "# BONUS: 4. How expensive are the cars?"
      ]
    },
    {
      "cell_type": "code",
      "source": [
        "cars[['Make','Price']]"
      ],
      "metadata": {
        "id": "1insvmfAOJdY",
        "colab": {
          "base_uri": "https://localhost:8080/",
          "height": 424
        },
        "outputId": "1d676582-d6fc-40c5-bb8c-1b57a48973f7"
      },
      "execution_count": 88,
      "outputs": [
        {
          "output_type": "execute_result",
          "data": {
            "text/plain": [
              "            Make   Price\n",
              "0     Volkswagen  360000\n",
              "1           Ford  320000\n",
              "2     Volkswagen  209980\n",
              "3           Ford  798000\n",
              "4     Volkswagen  146000\n",
              "...          ...     ...\n",
              "9995        Ford  399000\n",
              "9996  Volkswagen  240000\n",
              "9997        Ford  250000\n",
              "9998        Ford  295000\n",
              "9999        Ford  380000\n",
              "\n",
              "[10000 rows x 2 columns]"
            ],
            "text/html": [
              "\n",
              "  <div id=\"df-e04a40c4-e4c4-419d-bf1f-8d350b5b4a8c\">\n",
              "    <div class=\"colab-df-container\">\n",
              "      <div>\n",
              "<style scoped>\n",
              "    .dataframe tbody tr th:only-of-type {\n",
              "        vertical-align: middle;\n",
              "    }\n",
              "\n",
              "    .dataframe tbody tr th {\n",
              "        vertical-align: top;\n",
              "    }\n",
              "\n",
              "    .dataframe thead th {\n",
              "        text-align: right;\n",
              "    }\n",
              "</style>\n",
              "<table border=\"1\" class=\"dataframe\">\n",
              "  <thead>\n",
              "    <tr style=\"text-align: right;\">\n",
              "      <th></th>\n",
              "      <th>Make</th>\n",
              "      <th>Price</th>\n",
              "    </tr>\n",
              "  </thead>\n",
              "  <tbody>\n",
              "    <tr>\n",
              "      <th>0</th>\n",
              "      <td>Volkswagen</td>\n",
              "      <td>360000</td>\n",
              "    </tr>\n",
              "    <tr>\n",
              "      <th>1</th>\n",
              "      <td>Ford</td>\n",
              "      <td>320000</td>\n",
              "    </tr>\n",
              "    <tr>\n",
              "      <th>2</th>\n",
              "      <td>Volkswagen</td>\n",
              "      <td>209980</td>\n",
              "    </tr>\n",
              "    <tr>\n",
              "      <th>3</th>\n",
              "      <td>Ford</td>\n",
              "      <td>798000</td>\n",
              "    </tr>\n",
              "    <tr>\n",
              "      <th>4</th>\n",
              "      <td>Volkswagen</td>\n",
              "      <td>146000</td>\n",
              "    </tr>\n",
              "    <tr>\n",
              "      <th>...</th>\n",
              "      <td>...</td>\n",
              "      <td>...</td>\n",
              "    </tr>\n",
              "    <tr>\n",
              "      <th>9995</th>\n",
              "      <td>Ford</td>\n",
              "      <td>399000</td>\n",
              "    </tr>\n",
              "    <tr>\n",
              "      <th>9996</th>\n",
              "      <td>Volkswagen</td>\n",
              "      <td>240000</td>\n",
              "    </tr>\n",
              "    <tr>\n",
              "      <th>9997</th>\n",
              "      <td>Ford</td>\n",
              "      <td>250000</td>\n",
              "    </tr>\n",
              "    <tr>\n",
              "      <th>9998</th>\n",
              "      <td>Ford</td>\n",
              "      <td>295000</td>\n",
              "    </tr>\n",
              "    <tr>\n",
              "      <th>9999</th>\n",
              "      <td>Ford</td>\n",
              "      <td>380000</td>\n",
              "    </tr>\n",
              "  </tbody>\n",
              "</table>\n",
              "<p>10000 rows × 2 columns</p>\n",
              "</div>\n",
              "      <button class=\"colab-df-convert\" onclick=\"convertToInteractive('df-e04a40c4-e4c4-419d-bf1f-8d350b5b4a8c')\"\n",
              "              title=\"Convert this dataframe to an interactive table.\"\n",
              "              style=\"display:none;\">\n",
              "        \n",
              "  <svg xmlns=\"http://www.w3.org/2000/svg\" height=\"24px\"viewBox=\"0 0 24 24\"\n",
              "       width=\"24px\">\n",
              "    <path d=\"M0 0h24v24H0V0z\" fill=\"none\"/>\n",
              "    <path d=\"M18.56 5.44l.94 2.06.94-2.06 2.06-.94-2.06-.94-.94-2.06-.94 2.06-2.06.94zm-11 1L8.5 8.5l.94-2.06 2.06-.94-2.06-.94L8.5 2.5l-.94 2.06-2.06.94zm10 10l.94 2.06.94-2.06 2.06-.94-2.06-.94-.94-2.06-.94 2.06-2.06.94z\"/><path d=\"M17.41 7.96l-1.37-1.37c-.4-.4-.92-.59-1.43-.59-.52 0-1.04.2-1.43.59L10.3 9.45l-7.72 7.72c-.78.78-.78 2.05 0 2.83L4 21.41c.39.39.9.59 1.41.59.51 0 1.02-.2 1.41-.59l7.78-7.78 2.81-2.81c.8-.78.8-2.07 0-2.86zM5.41 20L4 18.59l7.72-7.72 1.47 1.35L5.41 20z\"/>\n",
              "  </svg>\n",
              "      </button>\n",
              "      \n",
              "  <style>\n",
              "    .colab-df-container {\n",
              "      display:flex;\n",
              "      flex-wrap:wrap;\n",
              "      gap: 12px;\n",
              "    }\n",
              "\n",
              "    .colab-df-convert {\n",
              "      background-color: #E8F0FE;\n",
              "      border: none;\n",
              "      border-radius: 50%;\n",
              "      cursor: pointer;\n",
              "      display: none;\n",
              "      fill: #1967D2;\n",
              "      height: 32px;\n",
              "      padding: 0 0 0 0;\n",
              "      width: 32px;\n",
              "    }\n",
              "\n",
              "    .colab-df-convert:hover {\n",
              "      background-color: #E2EBFA;\n",
              "      box-shadow: 0px 1px 2px rgba(60, 64, 67, 0.3), 0px 1px 3px 1px rgba(60, 64, 67, 0.15);\n",
              "      fill: #174EA6;\n",
              "    }\n",
              "\n",
              "    [theme=dark] .colab-df-convert {\n",
              "      background-color: #3B4455;\n",
              "      fill: #D2E3FC;\n",
              "    }\n",
              "\n",
              "    [theme=dark] .colab-df-convert:hover {\n",
              "      background-color: #434B5C;\n",
              "      box-shadow: 0px 1px 3px 1px rgba(0, 0, 0, 0.15);\n",
              "      filter: drop-shadow(0px 1px 2px rgba(0, 0, 0, 0.3));\n",
              "      fill: #FFFFFF;\n",
              "    }\n",
              "  </style>\n",
              "\n",
              "      <script>\n",
              "        const buttonEl =\n",
              "          document.querySelector('#df-e04a40c4-e4c4-419d-bf1f-8d350b5b4a8c button.colab-df-convert');\n",
              "        buttonEl.style.display =\n",
              "          google.colab.kernel.accessAllowed ? 'block' : 'none';\n",
              "\n",
              "        async function convertToInteractive(key) {\n",
              "          const element = document.querySelector('#df-e04a40c4-e4c4-419d-bf1f-8d350b5b4a8c');\n",
              "          const dataTable =\n",
              "            await google.colab.kernel.invokeFunction('convertToInteractive',\n",
              "                                                     [key], {});\n",
              "          if (!dataTable) return;\n",
              "\n",
              "          const docLinkHtml = 'Like what you see? Visit the ' +\n",
              "            '<a target=\"_blank\" href=https://colab.research.google.com/notebooks/data_table.ipynb>data table notebook</a>'\n",
              "            + ' to learn more about interactive tables.';\n",
              "          element.innerHTML = '';\n",
              "          dataTable['output_type'] = 'display_data';\n",
              "          await google.colab.output.renderOutput(dataTable, element);\n",
              "          const docLink = document.createElement('div');\n",
              "          docLink.innerHTML = docLinkHtml;\n",
              "          element.appendChild(docLink);\n",
              "        }\n",
              "      </script>\n",
              "    </div>\n",
              "  </div>\n",
              "  "
            ]
          },
          "metadata": {},
          "execution_count": 88
        }
      ]
    },
    {
      "cell_type": "markdown",
      "metadata": {
        "id": "x04i1kTlWyQ1"
      },
      "source": [
        "--- \n",
        "# Review\n",
        "\n",
        "This section is only for the reviewing team!\n",
        "\n",
        "Guideline how to review:\n",
        "https://docs.google.com/presentation/d/1YORFwlfVQo9ogj7jR9t6_pqxmGIlpBSGubbp1UdtcBQ/edit?usp=sharing"
      ]
    },
    {
      "cell_type": "code",
      "metadata": {
        "id": "b-AdRPmP3u5y",
        "cellView": "form"
      },
      "source": [
        "#@title Review Criteria:\n",
        "%%html\n",
        "<h3><input type=\"checkbox\"> 1. Are all questions answered? <br></h3> \n",
        "<h3><input type=\"checkbox\"> 2. Does all code run through? <br></h3> \n",
        "<h3><input type=\"checkbox\"> 3. Are the conclusions understandable?  <br></h3> \n",
        "<h3><input type=\"checkbox\"> 4. Are the bonus question answered?  <br></h3> "
      ],
      "execution_count": null,
      "outputs": []
    },
    {
      "cell_type": "code",
      "metadata": {
        "id": "x09QWAIP4UyI"
      },
      "source": [
        "input(\"Do you have any feedback?\")"
      ],
      "execution_count": null,
      "outputs": []
    },
    {
      "cell_type": "markdown",
      "metadata": {
        "id": "dWB9-gCBxr_j"
      },
      "source": [
        "# Further material"
      ]
    },
    {
      "cell_type": "markdown",
      "metadata": {
        "id": "H1LZOyLlzgF3"
      },
      "source": [
        "**Further summarization methods:**\n",
        "\n",
        "```\n",
        ".head()\n",
        ".info()\n",
        ".columns\n",
        ".unique()\n",
        ".min()\n",
        ".max()\n",
        ".mean()\n",
        ".count()\n",
        ".value_counts()\n",
        "```\n",
        "\n",
        "\n",
        "Where to find further methods from pandas: \n",
        "- https://pandas.pydata.org/pandas-docs/stable/reference/api/pandas.DataFrame.html\n",
        "- https://www.dataquest.io/blog/pandas-cheat-sheet/\n",
        "- https://towardsdatascience.com/an-introduction-to-pandas-29d15a7da6d\n",
        "\n"
      ]
    }
  ]
}